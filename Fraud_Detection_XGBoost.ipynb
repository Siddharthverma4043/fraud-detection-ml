{
 "cells": [
  {
   "cell_type": "code",
   "execution_count": 27,
   "id": "30ce9aa9",
   "metadata": {},
   "outputs": [
    {
     "name": "stdout",
     "output_type": "stream",
     "text": [
      "Shape of data: (6362620, 11)\n"
     ]
    },
    {
     "data": {
      "text/html": [
       "<div>\n",
       "<style scoped>\n",
       "    .dataframe tbody tr th:only-of-type {\n",
       "        vertical-align: middle;\n",
       "    }\n",
       "\n",
       "    .dataframe tbody tr th {\n",
       "        vertical-align: top;\n",
       "    }\n",
       "\n",
       "    .dataframe thead th {\n",
       "        text-align: right;\n",
       "    }\n",
       "</style>\n",
       "<table border=\"1\" class=\"dataframe\">\n",
       "  <thead>\n",
       "    <tr style=\"text-align: right;\">\n",
       "      <th></th>\n",
       "      <th>step</th>\n",
       "      <th>type</th>\n",
       "      <th>amount</th>\n",
       "      <th>nameOrig</th>\n",
       "      <th>oldbalanceOrg</th>\n",
       "      <th>newbalanceOrig</th>\n",
       "      <th>nameDest</th>\n",
       "      <th>oldbalanceDest</th>\n",
       "      <th>newbalanceDest</th>\n",
       "      <th>isFraud</th>\n",
       "      <th>isFlaggedFraud</th>\n",
       "    </tr>\n",
       "  </thead>\n",
       "  <tbody>\n",
       "    <tr>\n",
       "      <th>0</th>\n",
       "      <td>1</td>\n",
       "      <td>PAYMENT</td>\n",
       "      <td>9839.64</td>\n",
       "      <td>C1231006815</td>\n",
       "      <td>170136.0</td>\n",
       "      <td>160296.36</td>\n",
       "      <td>M1979787155</td>\n",
       "      <td>0.0</td>\n",
       "      <td>0.0</td>\n",
       "      <td>0</td>\n",
       "      <td>0</td>\n",
       "    </tr>\n",
       "    <tr>\n",
       "      <th>1</th>\n",
       "      <td>1</td>\n",
       "      <td>PAYMENT</td>\n",
       "      <td>1864.28</td>\n",
       "      <td>C1666544295</td>\n",
       "      <td>21249.0</td>\n",
       "      <td>19384.72</td>\n",
       "      <td>M2044282225</td>\n",
       "      <td>0.0</td>\n",
       "      <td>0.0</td>\n",
       "      <td>0</td>\n",
       "      <td>0</td>\n",
       "    </tr>\n",
       "    <tr>\n",
       "      <th>2</th>\n",
       "      <td>1</td>\n",
       "      <td>TRANSFER</td>\n",
       "      <td>181.00</td>\n",
       "      <td>C1305486145</td>\n",
       "      <td>181.0</td>\n",
       "      <td>0.00</td>\n",
       "      <td>C553264065</td>\n",
       "      <td>0.0</td>\n",
       "      <td>0.0</td>\n",
       "      <td>1</td>\n",
       "      <td>0</td>\n",
       "    </tr>\n",
       "    <tr>\n",
       "      <th>3</th>\n",
       "      <td>1</td>\n",
       "      <td>CASH_OUT</td>\n",
       "      <td>181.00</td>\n",
       "      <td>C840083671</td>\n",
       "      <td>181.0</td>\n",
       "      <td>0.00</td>\n",
       "      <td>C38997010</td>\n",
       "      <td>21182.0</td>\n",
       "      <td>0.0</td>\n",
       "      <td>1</td>\n",
       "      <td>0</td>\n",
       "    </tr>\n",
       "    <tr>\n",
       "      <th>4</th>\n",
       "      <td>1</td>\n",
       "      <td>PAYMENT</td>\n",
       "      <td>11668.14</td>\n",
       "      <td>C2048537720</td>\n",
       "      <td>41554.0</td>\n",
       "      <td>29885.86</td>\n",
       "      <td>M1230701703</td>\n",
       "      <td>0.0</td>\n",
       "      <td>0.0</td>\n",
       "      <td>0</td>\n",
       "      <td>0</td>\n",
       "    </tr>\n",
       "  </tbody>\n",
       "</table>\n",
       "</div>"
      ],
      "text/plain": [
       "   step      type    amount     nameOrig  oldbalanceOrg  newbalanceOrig  \\\n",
       "0     1   PAYMENT   9839.64  C1231006815       170136.0       160296.36   \n",
       "1     1   PAYMENT   1864.28  C1666544295        21249.0        19384.72   \n",
       "2     1  TRANSFER    181.00  C1305486145          181.0            0.00   \n",
       "3     1  CASH_OUT    181.00   C840083671          181.0            0.00   \n",
       "4     1   PAYMENT  11668.14  C2048537720        41554.0        29885.86   \n",
       "\n",
       "      nameDest  oldbalanceDest  newbalanceDest  isFraud  isFlaggedFraud  \n",
       "0  M1979787155             0.0             0.0        0               0  \n",
       "1  M2044282225             0.0             0.0        0               0  \n",
       "2   C553264065             0.0             0.0        1               0  \n",
       "3    C38997010         21182.0             0.0        1               0  \n",
       "4  M1230701703             0.0             0.0        0               0  "
      ]
     },
     "execution_count": 27,
     "metadata": {},
     "output_type": "execute_result"
    }
   ],
   "source": [
    "# Step 1: Import libraries\n",
    "import pandas as pd\n",
    "import numpy as np\n",
    "import matplotlib.pyplot as plt\n",
    "import seaborn as sns\n",
    "import warnings\n",
    "warnings.filterwarnings('ignore')\n",
    "\n",
    "# Step 2: Load dataset\n",
    "df = pd.read_csv('Fraud.csv')\n",
    "\n",
    "# Step 3: Quick view\n",
    "print(\"Shape of data:\", df.shape)\n",
    "df.head()\n"
   ]
  },
  {
   "cell_type": "code",
   "execution_count": 28,
   "id": "61ab6848",
   "metadata": {},
   "outputs": [
    {
     "name": "stdout",
     "output_type": "stream",
     "text": [
      "Missing values per column:\n",
      " Series([], dtype: int64)\n"
     ]
    },
    {
     "data": {
      "text/html": [
       "<div>\n",
       "<style scoped>\n",
       "    .dataframe tbody tr th:only-of-type {\n",
       "        vertical-align: middle;\n",
       "    }\n",
       "\n",
       "    .dataframe tbody tr th {\n",
       "        vertical-align: top;\n",
       "    }\n",
       "\n",
       "    .dataframe thead th {\n",
       "        text-align: right;\n",
       "    }\n",
       "</style>\n",
       "<table border=\"1\" class=\"dataframe\">\n",
       "  <thead>\n",
       "    <tr style=\"text-align: right;\">\n",
       "      <th></th>\n",
       "      <th>step</th>\n",
       "      <th>amount</th>\n",
       "      <th>oldbalanceOrg</th>\n",
       "      <th>newbalanceOrig</th>\n",
       "      <th>oldbalanceDest</th>\n",
       "      <th>newbalanceDest</th>\n",
       "      <th>isFraud</th>\n",
       "      <th>isFlaggedFraud</th>\n",
       "    </tr>\n",
       "  </thead>\n",
       "  <tbody>\n",
       "    <tr>\n",
       "      <th>count</th>\n",
       "      <td>6.362620e+06</td>\n",
       "      <td>6.362620e+06</td>\n",
       "      <td>6.362620e+06</td>\n",
       "      <td>6.362620e+06</td>\n",
       "      <td>6.362620e+06</td>\n",
       "      <td>6.362620e+06</td>\n",
       "      <td>6.362620e+06</td>\n",
       "      <td>6.362620e+06</td>\n",
       "    </tr>\n",
       "    <tr>\n",
       "      <th>mean</th>\n",
       "      <td>2.433972e+02</td>\n",
       "      <td>1.798619e+05</td>\n",
       "      <td>8.338831e+05</td>\n",
       "      <td>8.551137e+05</td>\n",
       "      <td>1.100702e+06</td>\n",
       "      <td>1.224996e+06</td>\n",
       "      <td>1.290820e-03</td>\n",
       "      <td>2.514687e-06</td>\n",
       "    </tr>\n",
       "    <tr>\n",
       "      <th>std</th>\n",
       "      <td>1.423320e+02</td>\n",
       "      <td>6.038582e+05</td>\n",
       "      <td>2.888243e+06</td>\n",
       "      <td>2.924049e+06</td>\n",
       "      <td>3.399180e+06</td>\n",
       "      <td>3.674129e+06</td>\n",
       "      <td>3.590480e-02</td>\n",
       "      <td>1.585775e-03</td>\n",
       "    </tr>\n",
       "    <tr>\n",
       "      <th>min</th>\n",
       "      <td>1.000000e+00</td>\n",
       "      <td>0.000000e+00</td>\n",
       "      <td>0.000000e+00</td>\n",
       "      <td>0.000000e+00</td>\n",
       "      <td>0.000000e+00</td>\n",
       "      <td>0.000000e+00</td>\n",
       "      <td>0.000000e+00</td>\n",
       "      <td>0.000000e+00</td>\n",
       "    </tr>\n",
       "    <tr>\n",
       "      <th>25%</th>\n",
       "      <td>1.560000e+02</td>\n",
       "      <td>1.338957e+04</td>\n",
       "      <td>0.000000e+00</td>\n",
       "      <td>0.000000e+00</td>\n",
       "      <td>0.000000e+00</td>\n",
       "      <td>0.000000e+00</td>\n",
       "      <td>0.000000e+00</td>\n",
       "      <td>0.000000e+00</td>\n",
       "    </tr>\n",
       "    <tr>\n",
       "      <th>50%</th>\n",
       "      <td>2.390000e+02</td>\n",
       "      <td>7.487194e+04</td>\n",
       "      <td>1.420800e+04</td>\n",
       "      <td>0.000000e+00</td>\n",
       "      <td>1.327057e+05</td>\n",
       "      <td>2.146614e+05</td>\n",
       "      <td>0.000000e+00</td>\n",
       "      <td>0.000000e+00</td>\n",
       "    </tr>\n",
       "    <tr>\n",
       "      <th>75%</th>\n",
       "      <td>3.350000e+02</td>\n",
       "      <td>2.087215e+05</td>\n",
       "      <td>1.073152e+05</td>\n",
       "      <td>1.442584e+05</td>\n",
       "      <td>9.430367e+05</td>\n",
       "      <td>1.111909e+06</td>\n",
       "      <td>0.000000e+00</td>\n",
       "      <td>0.000000e+00</td>\n",
       "    </tr>\n",
       "    <tr>\n",
       "      <th>max</th>\n",
       "      <td>7.430000e+02</td>\n",
       "      <td>9.244552e+07</td>\n",
       "      <td>5.958504e+07</td>\n",
       "      <td>4.958504e+07</td>\n",
       "      <td>3.560159e+08</td>\n",
       "      <td>3.561793e+08</td>\n",
       "      <td>1.000000e+00</td>\n",
       "      <td>1.000000e+00</td>\n",
       "    </tr>\n",
       "  </tbody>\n",
       "</table>\n",
       "</div>"
      ],
      "text/plain": [
       "               step        amount  oldbalanceOrg  newbalanceOrig  \\\n",
       "count  6.362620e+06  6.362620e+06   6.362620e+06    6.362620e+06   \n",
       "mean   2.433972e+02  1.798619e+05   8.338831e+05    8.551137e+05   \n",
       "std    1.423320e+02  6.038582e+05   2.888243e+06    2.924049e+06   \n",
       "min    1.000000e+00  0.000000e+00   0.000000e+00    0.000000e+00   \n",
       "25%    1.560000e+02  1.338957e+04   0.000000e+00    0.000000e+00   \n",
       "50%    2.390000e+02  7.487194e+04   1.420800e+04    0.000000e+00   \n",
       "75%    3.350000e+02  2.087215e+05   1.073152e+05    1.442584e+05   \n",
       "max    7.430000e+02  9.244552e+07   5.958504e+07    4.958504e+07   \n",
       "\n",
       "       oldbalanceDest  newbalanceDest       isFraud  isFlaggedFraud  \n",
       "count    6.362620e+06    6.362620e+06  6.362620e+06    6.362620e+06  \n",
       "mean     1.100702e+06    1.224996e+06  1.290820e-03    2.514687e-06  \n",
       "std      3.399180e+06    3.674129e+06  3.590480e-02    1.585775e-03  \n",
       "min      0.000000e+00    0.000000e+00  0.000000e+00    0.000000e+00  \n",
       "25%      0.000000e+00    0.000000e+00  0.000000e+00    0.000000e+00  \n",
       "50%      1.327057e+05    2.146614e+05  0.000000e+00    0.000000e+00  \n",
       "75%      9.430367e+05    1.111909e+06  0.000000e+00    0.000000e+00  \n",
       "max      3.560159e+08    3.561793e+08  1.000000e+00    1.000000e+00  "
      ]
     },
     "execution_count": 28,
     "metadata": {},
     "output_type": "execute_result"
    }
   ],
   "source": [
    "# Check for missing values\n",
    "missing = df.isnull().sum()\n",
    "print(\"Missing values per column:\\n\", missing[missing > 0])\n",
    "\n",
    "# Remove duplicates (if any)\n",
    "df.drop_duplicates(inplace=True)\n",
    "\n",
    "# Describe numeric features\n",
    "df.describe()\n"
   ]
  },
  {
   "cell_type": "code",
   "execution_count": 29,
   "id": "eb161672",
   "metadata": {},
   "outputs": [
    {
     "data": {
      "image/png": "[encoded data removed]",
      "text/plain": [
       "<Figure size 1500x800 with 1 Axes>"
      ]
     },
     "metadata": {},
     "output_type": "display_data"
    }
   ],
   "source": [
    "# Boxplot to check for outliers\n",
    "numeric_cols = df.select_dtypes(include=np.number).columns\n",
    "\n",
    "plt.figure(figsize=(15, 8))\n",
    "df[numeric_cols].boxplot()\n",
    "plt.title(\"Boxplot for Outlier Detection\")\n",
    "plt.xticks(rotation=90)\n",
    "plt.show()\n"
   ]
  },
  {
   "cell_type": "code",
   "execution_count": 30,
   "id": "9e76167e",
   "metadata": {},
   "outputs": [
    {
     "name": "stdout",
     "output_type": "stream",
     "text": [
      "          feature         VIF\n",
      "0            step    1.188500\n",
      "1          amount    4.013501\n",
      "2   oldbalanceOrg  465.124566\n",
      "3  newbalanceOrig  466.906067\n",
      "4  oldbalanceDest   71.790542\n",
      "5  newbalanceDest   83.263477\n",
      "6  isFlaggedFraud    1.000569\n"
     ]
    }
   ],
   "source": [
    "# Optional: Check VIF if multicollinearity is suspected\n",
    "from statsmodels.stats.outliers_influence import variance_inflation_factor\n",
    "\n",
    "X = df.select_dtypes(include=np.number).drop('isFraud', axis=1)  # Replace with actual target\n",
    "vif_data = pd.DataFrame()\n",
    "vif_data[\"feature\"] = X.columns\n",
    "vif_data[\"VIF\"] = [variance_inflation_factor(X.values, i) for i in range(len(X.columns))]\n",
    "print(vif_data)\n"
   ]
  },
  {
   "cell_type": "code",
   "execution_count": 31,
   "id": "2935dc71",
   "metadata": {},
   "outputs": [],
   "source": [
    "# Drop irrelevant columns (identifiers)\n",
    "df_model = df.drop(['nameOrig', 'nameDest'], axis=1)\n",
    "\n",
    "# Encode 'type' column\n",
    "df_model = pd.get_dummies(df_model, columns=['type'], drop_first=True)\n",
    "\n",
    "# Split features and target\n",
    "X = df_model.drop('isFraud', axis=1)\n",
    "y = df_model['isFraud']\n",
    "\n",
    "# Feature scaling\n",
    "from sklearn.preprocessing import StandardScaler\n",
    "scaler = StandardScaler()\n",
    "X_scaled = scaler.fit_transform(X)\n"
   ]
  },
  {
   "cell_type": "code",
   "execution_count": 32,
   "id": "c5efff06",
   "metadata": {},
   "outputs": [
    {
     "name": "stdout",
     "output_type": "stream",
     "text": [
      "Classification Report:\n",
      "               precision    recall  f1-score   support\n",
      "\n",
      "           0       1.00      1.00      1.00   1906322\n",
      "           1       0.94      0.38      0.54      2464\n",
      "\n",
      "    accuracy                           1.00   1908786\n",
      "   macro avg       0.97      0.69      0.77   1908786\n",
      "weighted avg       1.00      1.00      1.00   1908786\n",
      "\n",
      "Confusion Matrix:\n",
      " [[1906265      57]\n",
      " [   1538     926]]\n",
      "ROC-AUC Score: 0.9787442867646526\n"
     ]
    }
   ],
   "source": [
    "from sklearn.model_selection import train_test_split\n",
    "from sklearn.linear_model import LogisticRegression\n",
    "from sklearn.metrics import classification_report, confusion_matrix, roc_auc_score\n",
    "\n",
    "# Train-test split\n",
    "X_train, X_test, y_train, y_test = train_test_split(X_scaled, y, test_size=0.3, stratify=y, random_state=42)\n",
    "\n",
    "# Logistic Regression Model\n",
    "log_model = LogisticRegression()\n",
    "log_model.fit(X_train, y_train)\n",
    "\n",
    "# Predictions\n",
    "y_pred = log_model.predict(X_test)\n",
    "y_prob = log_model.predict_proba(X_test)[:, 1]\n",
    "\n",
    "# Evaluation\n",
    "print(\"Classification Report:\\n\", classification_report(y_test, y_pred))\n",
    "print(\"Confusion Matrix:\\n\", confusion_matrix(y_test, y_pred))\n",
    "print(\"ROC-AUC Score:\", roc_auc_score(y_test, y_prob))\n"
   ]
  },
  {
   "cell_type": "code",
   "execution_count": 33,
   "id": "acaa7e3a",
   "metadata": {},
   "outputs": [
    {
     "name": "stdout",
     "output_type": "stream",
     "text": [
      "Classification Report:\n",
      "               precision    recall  f1-score   support\n",
      "\n",
      "           0       1.00      1.00      1.00     29958\n",
      "           1       0.94      0.79      0.86        42\n",
      "\n",
      "    accuracy                           1.00     30000\n",
      "   macro avg       0.97      0.89      0.93     30000\n",
      "weighted avg       1.00      1.00      1.00     30000\n",
      "\n",
      "Confusion Matrix:\n",
      " [[29956     2]\n",
      " [    9    33]]\n",
      "ROC-AUC Score: 0.9989572703372023\n"
     ]
    }
   ],
   "source": [
    "import xgboost as xgb\n",
    "from sklearn.model_selection import train_test_split\n",
    "from sklearn.metrics import classification_report, confusion_matrix, roc_auc_score\n",
    "\n",
    "# Sample 100k rows for faster training\n",
    "df_sample = df_model.sample(n=100000, random_state=42)\n",
    "\n",
    "# Split features & target\n",
    "X = df_sample.drop('isFraud', axis=1)\n",
    "y = df_sample['isFraud']\n",
    "\n",
    "# Scale\n",
    "X_scaled = scaler.fit_transform(X)\n",
    "\n",
    "# Split into train-test sets\n",
    "X_train, X_test, y_train, y_test = train_test_split(X_scaled, y, test_size=0.3, stratify=y, random_state=42)\n",
    "\n",
    "# Define model\n",
    "xgb_model = xgb.XGBClassifier(use_label_encoder=False, eval_metric='logloss', random_state=42)\n",
    "xgb_model.fit(X_train, y_train)\n",
    "\n",
    "# Predict\n",
    "y_pred = xgb_model.predict(X_test)\n",
    "y_prob = xgb_model.predict_proba(X_test)[:, 1]\n",
    "\n",
    "# Evaluation\n",
    "print(\"Classification Report:\\n\", classification_report(y_test, y_pred))\n",
    "print(\"Confusion Matrix:\\n\", confusion_matrix(y_test, y_pred))\n",
    "print(\"ROC-AUC Score:\", roc_auc_score(y_test, y_prob))\n"
   ]
  },
  {
   "cell_type": "code",
   "execution_count": 34,
   "id": "8b572ab6",
   "metadata": {},
   "outputs": [
    {
     "data": {
      "image/png": "[encoded data removed]",
      "text/plain": [
       "<Figure size 640x480 with 1 Axes>"
      ]
     },
     "metadata": {},
     "output_type": "display_data"
    }
   ],
   "source": [
    "# Feature Importance\n",
    "import matplotlib.pyplot as plt\n",
    "\n",
    "xgb.plot_importance(xgb_model, max_num_features=10, importance_type='gain', height=0.6)\n",
    "plt.title(\"Top 10 Feature Importances - XGBoost\")\n",
    "plt.show()\n"
   ]
  },
  {
   "cell_type": "markdown",
   "id": "8e842aaf",
   "metadata": {},
   "source": [
    "Q1. Data Cleaning"
   ]
  },
  {
   "cell_type": "markdown",
   "id": "24242442",
   "metadata": {},
   "source": [
    "- No missing values found.\n",
    "- Duplicate records removed.\n",
    "- Outliers visually inspected using boxplots.\n",
    "- Multicollinearity checked using VIF.\n"
   ]
  },
  {
   "cell_type": "markdown",
   "id": "70e46acd",
   "metadata": {},
   "source": [
    "Q2. Describe your fraud detection model"
   ]
  },
  {
   "cell_type": "markdown",
   "id": "f7ab4855",
   "metadata": {},
   "source": [
    "- Two models were trained: Logistic Regression (baseline) and XGBoost (advanced).\n",
    "- XGBoost performed better in accuracy and ROC-AUC.\n",
    "- Used balanced train-test split and evaluated with classification report, confusion matrix, and AUC.\n"
   ]
  },
  {
   "cell_type": "markdown",
   "id": "34ae5a49",
   "metadata": {},
   "source": [
    "Q3. How did you select variables?"
   ]
  },
  {
   "cell_type": "markdown",
   "id": "3fb964c2",
   "metadata": {},
   "source": [
    "- Dropped identifiers (`nameOrig`, `nameDest`) as they add no predictive value.\n",
    "- One-hot encoded `type` column.\n",
    "- Used XGBoost feature importance to assess final useful features.\n"
   ]
  },
  {
   "cell_type": "markdown",
   "id": "5484fd7d",
   "metadata": {},
   "source": [
    "Q4. Performance of the Model"
   ]
  },
  {
   "cell_type": "markdown",
   "id": "cc064d0a",
   "metadata": {},
   "source": [
    "**Logistic Regression**: ROC-AUC ≈ (fill value from output)  \n",
    "**XGBoost**: ROC-AUC ≈ (fill value from output)  \n",
    "- XGBoost showed higher precision, recall, and F1-score."
   ]
  },
  {
   "cell_type": "markdown",
   "id": "c83e4b68",
   "metadata": {},
   "source": [
    "Q5. What are the key factors that predict fraudulent customer?"
   ]
  },
  {
   "cell_type": "markdown",
   "id": "65e2be86",
   "metadata": {},
   "source": [
    "**Key Factors Predicting Fraudulent Transactions:**\n",
    "\n",
    "Using XGBoost feature importance, the top predictors for fraudulent transactions are:\n",
    "\n",
    "1. `oldbalanceOrg` – Original balance of the sender before the transaction\n",
    "2. `newbalanceOrig` – New balance of the sender after the transaction\n",
    "3. `amount` – Transaction amount\n",
    "4. `type_TRANSFER` – Indicator for transfer transactions\n",
    "5. `type_CASH_OUT` – Indicator for cash out transactions\n",
    "6. `oldbalanceDest` – Receiver's old balance\n",
    "\n",
    "These features had the highest gain and importance scores in the XGBoost model and significantly impacted predictions.\n"
   ]
  },
  {
   "cell_type": "markdown",
   "id": "74f7a946",
   "metadata": {},
   "source": [
    "Q6. Do these factors make sense? If yes, How? If not, How not?"
   ]
  },
  {
   "cell_type": "markdown",
   "id": "416071c3",
   "metadata": {},
   "source": [
    "**Yes, these factors make intuitive sense. Here's why:**\n",
    "\n",
    "- Fraudsters typically drain the sender's account, leaving the `newbalanceOrig` close to zero.\n",
    "- Fraudulent transactions often involve large `amounts`, especially in `TRANSFER` and `CASH_OUT` types.\n",
    "- The `oldbalanceDest` being zero may indicate a newly created receiver account, common in fraud rings.\n",
    "- The transaction `type` is critical since fraudulent activity is concentrated in specific transaction modes.\n",
    "\n",
    "Hence, the model’s reliance on these variables aligns well with real-world fraud behavior patterns.\n"
   ]
  },
  {
   "cell_type": "markdown",
   "id": "8366909d",
   "metadata": {},
   "source": [
    "Q7. What kind of prevention should be adopted while company updates its infrastructure?"
   ]
  },
  {
   "cell_type": "markdown",
   "id": "26eea7d5",
   "metadata": {},
   "source": [
    "**Recommended Prevention Strategies:**\n",
    "\n",
    "1. **Real-Time Monitoring:**  \n",
    "   Implement real-time fraud detection systems using ML models.\n",
    "\n",
    "2. **Rule-Based Triggers:**  \n",
    "   Flag unusual behavior such as large transfers, zero balances, or rapid sequence of transactions.\n",
    "\n",
    "3. **User Profiling:**  \n",
    "   Maintain user transaction history to spot behavior deviations.\n",
    "\n",
    "4. **Two-Factor Authentication (2FA):**  \n",
    "   Especially for high-value or risky transaction types.\n",
    "\n",
    "5. **Transaction Limits:**  \n",
    "   Set dynamic limits based on customer profiles and risk scores.\n",
    "\n",
    "6. **Machine Learning Feedback Loop:**  \n",
    "   Use confirmed fraud cases to retrain and improve the model continuously.\n"
   ]
  },
  {
   "cell_type": "markdown",
   "id": "47092496",
   "metadata": {},
   "source": [
    "Q8. Assuming these actions have been implemented, how would you determine if they work?"
   ]
  },
  {
   "cell_type": "markdown",
   "id": "36b2cb44",
   "metadata": {},
   "source": [
    "**Measuring Effectiveness of Anti-Fraud Actions:**\n",
    "\n",
    "To assess success, the following metrics can be monitored:\n",
    "\n",
    "- 🔐 **Reduction in Fraud Rate:**  \n",
    "  % decrease in confirmed fraudulent transactions after implementation.\n",
    "\n",
    "- 📈 **Precision & Recall Metrics:**  \n",
    "  Higher precision = fewer false positives; higher recall = fewer missed frauds.\n",
    "\n",
    "- ⏱ **Detection Time:**  \n",
    "  Reduced average time between fraud initiation and detection.\n",
    "\n",
    "- 📊 **Customer Complaints:**  \n",
    "  Decrease in fraud-related complaints/tickets.\n",
    "\n",
    "- 🧠 **Model Feedback Loop:**  \n",
    "  Improvement in model performance metrics (AUC, F1-score) over time.\n",
    "\n",
    "Evaluation should be done over a defined window (e.g., 30/60/90 days) post-implementation.\n"
   ]
  }
 ],
 "metadata": {
  "kernelspec": {
   "display_name": "Python 3",
   "language": "python",
   "name": "python3"
  },
  "language_info": {
   "codemirror_mode": {
    "name": "ipython",
    "version": 3
   },
   "file_extension": ".py",
   "mimetype": "text/x-python",
   "name": "python",
   "nbconvert_exporter": "python",
   "pygments_lexer": "ipython3",
   "version": "3.13.2"
  }
 },
 "nbformat": 4,
 "nbformat_minor": 5
}
